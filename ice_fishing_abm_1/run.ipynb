{
 "cells": [
  {
   "cell_type": "code",
   "execution_count": null,
   "id": "initial_id",
   "metadata": {},
   "outputs": [],
   "source": [
    "import numpy as np\n",
    "import mesa\n",
    "import pandas as pd\n",
    "import matplotlib.pylab as plt\n",
    "import seaborn as sns\n",
    "from scipy.stats import zscore\n",
    "%load_ext autoreload\n",
    "%autoreload 2"
   ]
  },
  {
   "cell_type": "code",
   "execution_count": null,
   "id": "f553d59b-f2ec-40d3-880c-b13fa7ece7b7",
   "metadata": {},
   "outputs": [],
   "source": [
    "from ice_fishing_abm_1.model import Model as m1"
   ]
  },
  {
   "cell_type": "code",
   "execution_count": null,
   "id": "3b598e2d-15e9-4a2d-9178-2292f6a038a2",
   "metadata": {},
   "outputs": [],
   "source": []
  },
  {
   "cell_type": "code",
   "execution_count": null,
   "id": "511619a3-d135-46f6-b96a-0950feba5e13",
   "metadata": {},
   "outputs": [],
   "source": [
    "%%time\n",
    "params = {\n",
    "    \"grid_width\": 100, \n",
    "    \"grid_height\": 100, \n",
    "    \"number_of_agents\": 5, # (1, 2, 3, 4, 5, 6, 7, 8, 9), # 1, #\n",
    "    \"n_resource_clusters\": 5,\n",
    "    \"exploration_threshold\": 0.1, # (0, 0.01, 0.05, 0.1, 0.2, 0.3, 0.5, 0.7, 1), # \n",
    "    \"prior_knowledge\": 0.05, # (0, 0.01, 0.05, 0.1, 0.2, 0.4, 0.6, 0.8)\n",
    "    \"sampling_length\": np.arange(3, 60, 6), # 30 # 10, # \n",
    "    \"social_influence_threshold\": (0.01, 0.5, 1, 1.5, 2), # 1, #  np.linspace(0.01, 2, 10),\n",
    "    \"relocation_threshold\": 0.4, # np.arange(0, 1, 0.1)\n",
    "}\n",
    "\n",
    "n_repetitions = 300\n",
    "\n",
    "results = mesa.batch_run(\n",
    "    m1,\n",
    "    parameters=params,\n",
    "    iterations=n_repetitions,\n",
    "    max_steps=1000,\n",
    "    number_processes=8,\n",
    "    data_collection_period=-1,\n",
    "    display_progress=True,\n",
    ")"
   ]
  },
  {
   "cell_type": "code",
   "execution_count": null,
   "id": "d7ad7161-86fd-4c12-b6ab-bb7dd5d7331e",
   "metadata": {},
   "outputs": [],
   "source": [
    "results_df = pd.DataFrame(results)\n",
    "print(results_df.keys())"
   ]
  },
  {
   "cell_type": "code",
   "execution_count": null,
   "id": "cc2a6b1a-2e41-485b-89ad-14ae56ec12fb",
   "metadata": {},
   "outputs": [],
   "source": [
    "# results_last_step_df = results_df[results_df['Step'] == 1000]\n",
    "\n",
    "param1 = \"social_influence_threshold\"\n",
    "param2 = \"sampling_length\"\n",
    "\n",
    "# average over the iterations\n",
    "results_last_step_df = results_df.groupby([param1, param2]).mean().reset_index()\n",
    "results_last_step_df.loc[:, param1] = results_last_step_df[param1].round(2)\n",
    "results_last_step_df.loc[:, param2] = results_last_step_df[param2].round(2)\n",
    "heatmap_df = results_last_step_df.pivot(index=param1, columns=param2, values='Collected resource')"
   ]
  },
  {
   "cell_type": "code",
   "execution_count": null,
   "id": "e7e74e05-5d2f-42c0-9ad2-6304abb68c95",
   "metadata": {},
   "outputs": [],
   "source": [
    "\n",
    "# sns.set_theme(style=\"white\")\n",
    "# sns.heatmap(heatmap_df, cmap=\"viridis\", # vmin=0,#  vmax=500,\n",
    "#             cbar_kws={'label': 'Collected resource'})\n",
    "# plt.show();\n",
    "\n",
    "\n",
    "with sns.axes_style(\"white\"):\n",
    "    # Set up the matplotlib figure\n",
    "    f, ax = plt.subplots(figsize=(11, 9))\n",
    "\n",
    "# Generate a custom diverging colormap\n",
    "cmap = sns.diverging_palette(230, 20, as_cmap=True)\n",
    "# cmap = \"viridis\"\n",
    "\n",
    "\n",
    "# Draw the heatmap with the mask and correct aspect ratio\n",
    "g = sns.heatmap(heatmap_df, cmap=cmap, # vmax=.3, center=0,\n",
    "                square=True, linewidths=.5, cbar_kws={\"shrink\": .5, \"label\": \"Collected Resource\"})\n",
    "\n",
    "plt.ylabel(\"Threshold for Social Influence (lower=more sensitive)\")\n",
    "# plt.xlabel(\"The Number of Agents\")\n",
    "\n",
    "plt.xlabel(\"Resource Collection Length (steps)\")\n",
    "# plt.ylabel(\"Exploration Threshold (1 = Random Agent)\")\n",
    "# plt.ylabel(\"Relocation Threshold (compared to the current catch rate)\")\n",
    "\n",
    "\n",
    "plt.savefig(f\"{param1} vs. {param2} m1 {n_repetitions} repetitions.png\", dpi=300)\n",
    "plt.show()"
   ]
  },
  {
   "cell_type": "code",
   "execution_count": null,
   "id": "626a61b4-be64-4dc2-88a1-0f1fa9b398a6",
   "metadata": {},
   "outputs": [],
   "source": []
  },
  {
   "cell_type": "code",
   "execution_count": null,
   "id": "53ccbec6-10bc-44c4-b74c-90de5cda007e",
   "metadata": {},
   "outputs": [],
   "source": [
    "sns.lineplot(data=results_df, x=\"Step\", y=\"Collected resource\", hue=\"number_of_agents\", errorbar=None)\n"
   ]
  },
  {
   "cell_type": "code",
   "execution_count": null,
   "id": "a5496a60-2c1c-403d-8e3e-8972ca4b0cc1",
   "metadata": {},
   "outputs": [],
   "source": []
  }
 ],
 "metadata": {
  "kernelspec": {
   "display_name": "Python 3 (ipykernel)",
   "language": "python",
   "name": "python3"
  },
  "language_info": {
   "codemirror_mode": {
    "name": "ipython",
    "version": 3
   },
   "file_extension": ".py",
   "mimetype": "text/x-python",
   "name": "python",
   "nbconvert_exporter": "python",
   "pygments_lexer": "ipython3",
   "version": "3.11.3"
  }
 },
 "nbformat": 4,
 "nbformat_minor": 5
}
