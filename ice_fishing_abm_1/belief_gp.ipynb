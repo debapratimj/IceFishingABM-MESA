{
 "cells": [
  {
   "cell_type": "code",
   "id": "initial_id",
   "metadata": {
    "collapsed": true
   },
   "source": [
    "import numpy as np\n",
    "import mesa\n",
    "import pandas as pd\n",
    "import matplotlib.pylab as plt\n",
    "import seaborn as sns\n",
    "from scipy.stats import zscore\n",
    "\n",
    "from sklearn.gaussian_process import GaussianProcessClassifier\n",
    "from sklearn.gaussian_process.kernels import RBF\n",
    "\n",
    "%load_ext autoreload\n",
    "%autoreload 2\n",
    "%load_ext line_profiler"
   ],
   "outputs": [],
   "execution_count": null
  },
  {
   "metadata": {},
   "cell_type": "code",
   "source": "",
   "id": "8cbfea6f5bde8d26",
   "outputs": [],
   "execution_count": null
  },
  {
   "metadata": {},
   "cell_type": "markdown",
   "source": "## Social information",
   "id": "918bf47fa91ac75"
  },
  {
   "metadata": {},
   "cell_type": "code",
   "source": [
    "# make the binary feature matrix\n",
    "grid_size = 100\n",
    "margin = 20\n",
    "x_plot = np.meshgrid(range(grid_size+margin), range(grid_size+margin))\n",
    "print(np.array(x_plot).shape)\n",
    "s = np.zeros((grid_size + margin, grid_size + margin))\n",
    "\n",
    "# set seed\n",
    "np.random.seed(2)\n",
    "\n",
    "# add some random 1s\n",
    "n_other_agents = 5\n",
    "for i in range(n_other_agents):\n",
    "    ai = np.random.randint(margin//2, grid_size+margin//2)\n",
    "    aj = np.random.randint(margin//2, grid_size+margin//2)\n",
    "    print((ai, aj))\n",
    "    s[ai, aj] = 1\n"
   ],
   "id": "2daf94bc8d1d8a95",
   "outputs": [],
   "execution_count": null
  },
  {
   "metadata": {},
   "cell_type": "code",
   "source": [
    "def plot_belief_style(_ax):\n",
    "    # add border\n",
    "    for _, spine in _ax.spines.items():\n",
    "        spine.set_visible(True)\n",
    "        spine.set_color('black')\n",
    "        spine.set_linewidth(1)\n",
    "    # ax.xaxis.set_ticks_position('top')\n",
    "    # remove ticks\n",
    "    _ax.set_xticks([])\n",
    "    _ax.set_yticks([])"
   ],
   "id": "3379d890de7b0c21",
   "outputs": [],
   "execution_count": null
  },
  {
   "metadata": {},
   "cell_type": "code",
   "source": [
    "fig, ax = plt.subplots(1, 1, figsize=(5, 5))\n",
    "cmap = 'binary'\n",
    "sns.heatmap(s, ax=ax, cmap=cmap, cbar=False, square=True, vmin=0, vmax=1)\n",
    "plot_belief_style(ax)\n",
    "plt.show()\n"
   ],
   "id": "a45ff623640f3f9d",
   "outputs": [],
   "execution_count": null
  },
  {
   "metadata": {},
   "cell_type": "code",
   "source": [
    "x = np.meshgrid(range(grid_size+margin), range(grid_size+margin))\n",
    "# X = np.array(X).reshape(2, -1).T\n",
    "# y = s.flatten()\n",
    "\n",
    "# select only the 1s\n",
    "X = np.array(x).reshape(2, -1).T[s.flatten() == 1]\n",
    "y = np.ones(X.shape[0])\n",
    "print(X.shape, y.shape)\n",
    "\n",
    "# add regular grid of every tenth mesh point with its value if not already in X\n",
    "X = np.vstack([X, np.array(x)[:, ::20, ::20].reshape(2, -1).T])\n",
    "y = np.hstack([y, np.zeros(X.shape[0] - y.shape[0])])\n",
    "print(X.shape, y.shape)\n",
    "\n",
    "# to reconstruct s\n",
    "# s_reconstructed = y.reshape(50, 50)"
   ],
   "id": "4e54f931df421ef1",
   "outputs": [],
   "execution_count": null
  },
  {
   "metadata": {},
   "cell_type": "code",
   "source": [
    "# plot selected points\n",
    "fig, ax = plt.subplots(1, 1, figsize=(5, 5))\n",
    "cmap = 'binary'\n",
    "sns.heatmap(s, ax=ax, cmap=cmap, cbar=False, square=True, vmin=0, vmax=1)\n",
    "plot_belief_style(ax)\n",
    "ax.scatter(X[:, 0], X[:, 1], color='red', s=10, alpha=0.5)\n",
    "plt.show()\n"
   ],
   "id": "48b7ad78e238ac9f",
   "outputs": [],
   "execution_count": null
  },
  {
   "metadata": {},
   "cell_type": "code",
   "source": "gpc = GaussianProcessClassifier(kernel=RBF(12), random_state=0, optimizer=None)",
   "id": "d113be6574301be7",
   "outputs": [],
   "execution_count": null
  },
  {
   "metadata": {},
   "cell_type": "code",
   "source": [
    "%%time\n",
    "\n",
    "gpc.fit(X, y)"
   ],
   "id": "5aeac443511a5676",
   "outputs": [],
   "execution_count": null
  },
  {
   "metadata": {},
   "cell_type": "code",
   "source": [
    "%%time\n",
    "x_plot = np.meshgrid(range(margin//2, grid_size + margin//2), range(margin//2, grid_size + margin//2))\n",
    "s_prob = gpc.predict_proba(np.array(x_plot).reshape(2, -1).T)"
   ],
   "id": "bf6cb6a678b09fce",
   "outputs": [],
   "execution_count": null
  },
  {
   "metadata": {},
   "cell_type": "code",
   "source": "from ice_fishing_abm_gp.belief import generate_belief_matrix, construct_dataset_info",
   "id": "542cd61aa8654a26",
   "outputs": [],
   "execution_count": null
  },
  {
   "metadata": {},
   "cell_type": "code",
   "source": [
    "# %prun gpc.fit(X, y)\n",
    "# s_prob = gpc.predict_proba(X)"
   ],
   "id": "854cd2dbcbdf3a78",
   "outputs": [],
   "execution_count": null
  },
  {
   "metadata": {},
   "cell_type": "code",
   "source": "agent_locs = np.array(np.meshgrid(range(grid_size+margin), range(grid_size+margin))).reshape(2, -1).T[s.flatten() == 1] - margin // 2",
   "id": "27bdb6e2310890ca",
   "outputs": [],
   "execution_count": null
  },
  {
   "metadata": {},
   "cell_type": "code",
   "source": [
    "%%time\n",
    "X_new, y_new = construct_dataset_info(100, 20, agent_locs, step_size=20)"
   ],
   "id": "a86e307323c516db",
   "outputs": [],
   "execution_count": null
  },
  {
   "metadata": {},
   "cell_type": "code",
   "source": "gpc = GaussianProcessClassifier(kernel=RBF(10), random_state=0, optimizer=None)",
   "id": "63ed9ce4aedc12c",
   "outputs": [],
   "execution_count": null
  },
  {
   "metadata": {},
   "cell_type": "code",
   "source": [
    "%%time\n",
    "# s_prob_plot = s_prob[:, 1].reshape(grid_size, grid_size)\n",
    "s_prob_plot = generate_belief_matrix(grid_size, margin, X_new, y_new, gpc)"
   ],
   "id": "ae8352a01ffd89bd",
   "outputs": [],
   "execution_count": null
  },
  {
   "metadata": {},
   "cell_type": "code",
   "source": [
    "fig, ax = plt.subplots(1, 1, figsize=(5, 5))\n",
    "cmap = 'viridis'\n",
    "\n",
    "sns.heatmap(s_prob_plot, ax=ax, cmap=cmap, cbar=False, square=True)\n",
    "# plot_belief_style(ax)\n",
    "ax.scatter(agent_locs[:, 0], agent_locs[:, 1], color='red', s=10, alpha=0.5, marker='x')\n",
    "ax.scatter(X_new[y_new==0, 0] - margin // 2, X_new[y_new==0, 1] - margin // 2, color='white', s=10, alpha=0.5, marker='o')\n",
    "plt.show()"
   ],
   "id": "5bb09558d7c23eca",
   "outputs": [],
   "execution_count": null
  },
  {
   "metadata": {},
   "cell_type": "code",
   "source": "agent_locs",
   "id": "4740334b6d075ef1",
   "outputs": [],
   "execution_count": null
  },
  {
   "metadata": {},
   "cell_type": "code",
   "source": "",
   "id": "10779c6733a9abfe",
   "outputs": [],
   "execution_count": null
  },
  {
   "metadata": {},
   "cell_type": "markdown",
   "source": "## Individual features: success and loss",
   "id": "ba2a084ae87d0c3f"
  },
  {
   "metadata": {},
   "cell_type": "code",
   "source": "",
   "id": "1b9c99fc4ee3b24",
   "outputs": [],
   "execution_count": null
  },
  {
   "metadata": {},
   "cell_type": "code",
   "source": "",
   "id": "3c3be086a983cf75",
   "outputs": [],
   "execution_count": null
  },
  {
   "metadata": {},
   "cell_type": "code",
   "source": "",
   "id": "547a0eeab5e4a378",
   "outputs": [],
   "execution_count": null
  },
  {
   "metadata": {},
   "cell_type": "code",
   "source": "",
   "id": "78e92bce43d2e7dd",
   "outputs": [],
   "execution_count": null
  },
  {
   "metadata": {},
   "cell_type": "code",
   "source": "",
   "id": "47a537d68a011a3a",
   "outputs": [],
   "execution_count": null
  },
  {
   "metadata": {},
   "cell_type": "code",
   "source": "",
   "id": "68c4a30bac52c9d0",
   "outputs": [],
   "execution_count": null
  },
  {
   "metadata": {},
   "cell_type": "markdown",
   "source": "# GPJax",
   "id": "15759cefe3c7b0f4"
  },
  {
   "metadata": {},
   "cell_type": "code",
   "source": [
    "# Enable Float64 for more stable matrix inversions.\n",
    "from jax import config\n",
    "\n",
    "config.update(\"jax_enable_x64\", True)\n",
    "\n",
    "from time import time\n",
    "import blackjax\n",
    "import jax\n",
    "import jax.numpy as jnp\n",
    "import jax.random as jr\n",
    "import jax.scipy as jsp\n",
    "import jax.tree_util as jtu\n",
    "from jaxtyping import (\n",
    "    Array,\n",
    "    Float,\n",
    "    install_import_hook,\n",
    ")\n",
    "import matplotlib.pyplot as plt\n",
    "import optax as ox\n",
    "import tensorflow_probability.substrates.jax as tfp\n",
    "from tqdm import trange\n",
    "\n",
    "with install_import_hook(\"gpjax\", \"beartype.beartype\"):\n",
    "    import gpjax as gpx\n",
    "\n",
    "tfd = tfp.distributions\n",
    "identity_matrix = jnp.eye\n",
    "key = jr.key(123)\n",
    "plt.style.use(\n",
    "    \"https://raw.githubusercontent.com/JaxGaussianProcesses/GPJax/main/docs/examples/gpjax.mplstyle\"\n",
    ")\n",
    "\n",
    "\n",
    "import cola\n",
    "from gpjax.lower_cholesky import lower_cholesky"
   ],
   "id": "1761b917b1000fdc",
   "outputs": [],
   "execution_count": null
  },
  {
   "metadata": {},
   "cell_type": "code",
   "source": [
    "D = gpx.Dataset(X=X, y=y)\n",
    "kernel = gpx.kernels.RBF()\n",
    "meanf = gpx.mean_functions.Constant()\n",
    "prior = gpx.gps.Prior(mean_function=meanf, kernel=kernel)\n",
    "likelihood = gpx.likelihoods.Bernoulli(num_datapoints=grid_size**2)"
   ],
   "id": "2e33359e446cefab",
   "outputs": [],
   "execution_count": null
  },
  {
   "metadata": {},
   "cell_type": "code",
   "source": [
    "posterior = prior * likelihood\n",
    "print(type(posterior))"
   ],
   "id": "fa2924973f29ee32",
   "outputs": [],
   "execution_count": null
  },
  {
   "metadata": {},
   "cell_type": "code",
   "source": [
    "negative_lpd = jax.jit(gpx.objectives.LogPosteriorDensity(negative=True))\n",
    "\n",
    "optimiser = ox.adam(learning_rate=0.01)\n",
    "\n",
    "opt_posterior, history = gpx.fit(\n",
    "    model=posterior,\n",
    "    objective=negative_lpd,\n",
    "    train_data=y,\n",
    "    optim=ox.adamw(learning_rate=0.01),\n",
    "    num_iters=1000,\n",
    "    key=key,\n",
    ")"
   ],
   "id": "cfeeb009ade53efe",
   "outputs": [],
   "execution_count": null
  },
  {
   "metadata": {},
   "cell_type": "code",
   "source": [
    "\n",
    "\n",
    "\n",
    "\n",
    "def construct_laplace(test_inputs: Float[Array, \"N D\"]) -> tfd.MultivariateNormalTriL:\n",
    "    map_latent_dist = opt_posterior.predict(xtest, train_data=D)\n",
    "\n",
    "    Kxt = opt_posterior.prior.kernel.cross_covariance(x, test_inputs)\n",
    "    Kxx = opt_posterior.prior.kernel.gram(x)\n",
    "    Kxx += identity_matrix(D.n) * jitter\n",
    "    Kxx = cola.PSD(Kxx)\n",
    "\n",
    "    # Kxx⁻¹ Kxt\n",
    "    Kxx_inv_Kxt = cola.solve(Kxx, Kxt)\n",
    "\n",
    "    # Ktx Kxx⁻¹[ H⁻¹ ] Kxx⁻¹ Kxt\n",
    "    laplace_cov_term = jnp.matmul(jnp.matmul(Kxx_inv_Kxt.T, H_inv), Kxx_inv_Kxt)\n",
    "\n",
    "    mean = map_latent_dist.mean()\n",
    "    covariance = map_latent_dist.covariance() + laplace_cov_term\n",
    "    L = jnp.linalg.cholesky(covariance)\n",
    "    return tfd.MultivariateNormalTriL(jnp.atleast_1d(mean.squeeze()), L)"
   ],
   "id": "bb1576ad22358ad6",
   "outputs": [],
   "execution_count": null
  }
 ],
 "metadata": {
  "kernelspec": {
   "display_name": "Python 3",
   "language": "python",
   "name": "python3"
  },
  "language_info": {
   "codemirror_mode": {
    "name": "ipython",
    "version": 2
   },
   "file_extension": ".py",
   "mimetype": "text/x-python",
   "name": "python",
   "nbconvert_exporter": "python",
   "pygments_lexer": "ipython2",
   "version": "2.7.6"
  }
 },
 "nbformat": 4,
 "nbformat_minor": 5
}
